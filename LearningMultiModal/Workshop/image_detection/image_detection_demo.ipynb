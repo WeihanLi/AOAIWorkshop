{
 "cells": [
  {
   "cell_type": "code",
   "execution_count": 1,
   "metadata": {},
   "outputs": [
    {
     "name": "stdout",
     "output_type": "stream",
     "text": [
      "Requirement already satisfied: openai in /home/lokinfey/conda/envs/pydev/lib/python3.10/site-packages (1.12.0)\n",
      "Requirement already satisfied: anyio<5,>=3.5.0 in /home/lokinfey/conda/envs/pydev/lib/python3.10/site-packages (from openai) (4.2.0)\n",
      "Requirement already satisfied: distro<2,>=1.7.0 in /home/lokinfey/conda/envs/pydev/lib/python3.10/site-packages (from openai) (1.9.0)\n",
      "Requirement already satisfied: httpx<1,>=0.23.0 in /home/lokinfey/conda/envs/pydev/lib/python3.10/site-packages (from openai) (0.27.0)\n",
      "Requirement already satisfied: pydantic<3,>=1.9.0 in /home/lokinfey/conda/envs/pydev/lib/python3.10/site-packages (from openai) (2.6.2)\n",
      "Requirement already satisfied: sniffio in /home/lokinfey/conda/envs/pydev/lib/python3.10/site-packages (from openai) (1.3.0)\n",
      "Requirement already satisfied: tqdm>4 in /home/lokinfey/conda/envs/pydev/lib/python3.10/site-packages (from openai) (4.66.2)\n",
      "Requirement already satisfied: typing-extensions<5,>=4.7 in /home/lokinfey/conda/envs/pydev/lib/python3.10/site-packages (from openai) (4.9.0)\n",
      "Requirement already satisfied: idna>=2.8 in /home/lokinfey/conda/envs/pydev/lib/python3.10/site-packages (from anyio<5,>=3.5.0->openai) (3.6)\n",
      "Requirement already satisfied: exceptiongroup>=1.0.2 in /home/lokinfey/conda/envs/pydev/lib/python3.10/site-packages (from anyio<5,>=3.5.0->openai) (1.2.0)\n",
      "Requirement already satisfied: certifi in /home/lokinfey/conda/envs/pydev/lib/python3.10/site-packages (from httpx<1,>=0.23.0->openai) (2023.11.17)\n",
      "Requirement already satisfied: httpcore==1.* in /home/lokinfey/conda/envs/pydev/lib/python3.10/site-packages (from httpx<1,>=0.23.0->openai) (1.0.4)\n",
      "Requirement already satisfied: h11<0.15,>=0.13 in /home/lokinfey/conda/envs/pydev/lib/python3.10/site-packages (from httpcore==1.*->httpx<1,>=0.23.0->openai) (0.14.0)\n",
      "Requirement already satisfied: annotated-types>=0.4.0 in /home/lokinfey/conda/envs/pydev/lib/python3.10/site-packages (from pydantic<3,>=1.9.0->openai) (0.6.0)\n",
      "Requirement already satisfied: pydantic-core==2.16.3 in /home/lokinfey/conda/envs/pydev/lib/python3.10/site-packages (from pydantic<3,>=1.9.0->openai) (2.16.3)\n"
     ]
    }
   ],
   "source": [
    "! pip install openai"
   ]
  },
  {
   "cell_type": "code",
   "execution_count": 2,
   "metadata": {},
   "outputs": [],
   "source": [
    "from openai import AzureOpenAI"
   ]
  },
  {
   "cell_type": "code",
   "execution_count": 3,
   "metadata": {},
   "outputs": [],
   "source": [
    "import os"
   ]
  },
  {
   "cell_type": "code",
   "execution_count": 4,
   "metadata": {},
   "outputs": [],
   "source": [
    "api_base = \"Your Azure OpenAI Service Endpoint\"\n",
    "api_key= \"Your Azure OpenAI Service API Key\"\n",
    "deployment_name = 'Your Azure OpenAI Service gpt-4-turbo-vision deployment name'\n",
    "api_version = '2023-12-01-preview' "
   ]
  },
  {
   "cell_type": "code",
   "execution_count": 5,
   "metadata": {},
   "outputs": [],
   "source": [
    "client = AzureOpenAI(\n",
    "    api_key = api_key,  \n",
    "    api_version = api_version,\n",
    "    base_url= api_base + \"/openai/deployments/\" + deployment_name\n",
    ")"
   ]
  },
  {
   "cell_type": "code",
   "execution_count": 6,
   "metadata": {},
   "outputs": [],
   "source": [
    "response = client.chat.completions.create(\n",
    "    model=deployment_name,\n",
    "    messages=[\n",
    "        { \"role\": \"system\", \"content\": \"You are a helpful assistant.\" },\n",
    "        { \"role\": \"user\", \"content\": [  \n",
    "            { \n",
    "                \"type\": \"text\", \n",
    "                \"text\": \"tell me how many people are in the image. who's not wearing a helmet on their heads? just return the x_min, y_min, x_max and y_max in 0-1 normalized space for not wearing person\" \n",
    "            },\n",
    "            { \n",
    "                \"type\": \"image_url\",\n",
    "                \"image_url\": {\n",
    "                    \"url\": \"https://i.cbc.ca/1.6704834.1672945320!/fileImage/httpImage/image.jpg_gen/derivatives/16x9_780/sikh-helmets-tina-singh.jpg\"\n",
    "                }\n",
    "            }\n",
    "        ] } \n",
    "    ],\n",
    "    max_tokens=3000\n",
    ")"
   ]
  },
  {
   "cell_type": "code",
   "execution_count": 7,
   "metadata": {},
   "outputs": [
    {
     "data": {
      "text/plain": [
       "'The person not wearing a helmet is located approximately at:\\n\\nx_min: 0.3\\ny_min: 0.2\\nx_max: 0.7\\ny_max: 0.8\\n\\nPlease note that these coordinates are an estimation in the normalized space.'"
      ]
     },
     "execution_count": 7,
     "metadata": {},
     "output_type": "execute_result"
    }
   ],
   "source": [
    "response.choices[0].message.content"
   ]
  },
  {
   "cell_type": "code",
   "execution_count": 8,
   "metadata": {},
   "outputs": [],
   "source": [
    "client = AzureOpenAI(\n",
    "  azure_endpoint = api_base, \n",
    "  api_key = api_key,  \n",
    "  api_version = api_version\n",
    ")"
   ]
  },
  {
   "cell_type": "code",
   "execution_count": 11,
   "metadata": {},
   "outputs": [],
   "source": [
    "response = client.chat.completions.create(\n",
    "    model=\"GPT4Model\", \n",
    "    messages=[\n",
    "        {\"role\": \"system\", \"content\": \"You are a Python Developer.\"},\n",
    "        {\"role\": \"user\", \"content\": \"Generate a python method named check_img, download the image https://i.cbc.ca/1.6704834.1672945320!/fileImage/httpImage/image.jpg_gen/derivatives/16x9_780/sikh-helmets-tina-singh.jpg to the local, And use opencv to mark the sum and save the new picture according to the x_min, y_min, x_max and y_max given in the method. Note : 1. x_min, y_min, x_max and y_max is 0-1 normalized space 2. The output only needs to be in markdown format and does not contain any text, such as:  ```python   ..... ```\"}\n",
    "    ]\n",
    ")"
   ]
  },
  {
   "cell_type": "code",
   "execution_count": 12,
   "metadata": {},
   "outputs": [
    {
     "data": {
      "text/plain": [
       "'Here is a Python function to download the image, use OpenCV to draw a rectangle, and save the new image:\\n\\n```python\\nimport cv2\\nimport urllib.request\\nimport numpy as np\\n\\ndef check_img(x_min, y_min, x_max, y_max):\\n    # download the image\\n    urllib.request.urlretrieve(\\'https://i.cbc.ca/1.6704834.1672945320!/fileImage/httpImage/image.jpg_gen/derivatives/16x9_780/sikh-helmets-tina-singh.jpg\\', \\'/tmp/image.jpg\\')\\n\\n    # read the image and get its width and height\\n    img = cv2.imread(\\'/tmp/image.jpg\\')\\n    h, w = img.shape[:2]\\n\\n    # convert the normalized space to pixels\\n    x_min, y_min = int(x_min * w), int(y_min * h)\\n    x_max, y_max = int(x_max * w), int(y_max * h)\\n\\n    # draw a mark around the object\\n    cv2.rectangle(img, (x_min, y_min), (x_max, y_max), (0, 255, 0), 2)\\n\\n    # write the new image\\n    cv2.imwrite(\\'/tmp/new_image.jpg\\', img)\\n```\\n\\nThis function reads the image from the given URL, gets the image dimensions in pixels, and converts the boundaries from the normalized space (0-1) to pixel values. It then draws a rectangle around the specified section of the image using `cv2.rectangle()`, and saves the new image to a new file called \"new_image.jpg\".'"
      ]
     },
     "execution_count": 12,
     "metadata": {},
     "output_type": "execute_result"
    }
   ],
   "source": [
    "response.choices[0].message.content"
   ]
  },
  {
   "cell_type": "markdown",
   "metadata": {},
   "source": [
    "```python\n",
    "\n",
    "import cv2\n",
    "import urllib.request\n",
    "import numpy as np\n",
    "\n",
    "def check_img(x_min, y_min, x_max, y_max):    \n",
    "    # download the image    \n",
    "    urllib.request.urlretrieve('https://i.cbc.ca/1.6704834.1672945320!/fileImage/httpImage/image.jpg_gen/derivatives/16x9_780/sikh-helmets-tina-singh.jpg', './image.jpg')   \n",
    "    # read the image and get its width and height\n",
    "    img = cv2.imread('./image.jpg')   \n",
    "    h, w = img.shape[:2]   \n",
    "    # convert the normalized space to pixels   \n",
    "    x_min, y_min = int(x_min * w), int(y_min * h)    \n",
    "    x_max, y_max = int(x_max * w), int(y_max * h)    \n",
    "    # draw a mark around the object\\n   \n",
    "    cv2.rectangle(img, (x_min, y_min), (x_max, y_max), (0, 255, 0), 2)    \n",
    "    # write the new image  \n",
    "    cv2.imwrite('./new_image.jpg', img)\n",
    "    \n",
    "```"
   ]
  },
  {
   "cell_type": "code",
   "execution_count": null,
   "metadata": {},
   "outputs": [],
   "source": [
    "! pip install opencv-python"
   ]
  },
  {
   "cell_type": "code",
   "execution_count": 13,
   "metadata": {},
   "outputs": [],
   "source": [
    "import cv2\n",
    "import urllib.request\n",
    "import numpy as np\n",
    "\n",
    "def check_img(x_min, y_min, x_max, y_max):    \n",
    "    # download the image    \n",
    "    urllib.request.urlretrieve('https://i.cbc.ca/1.6704834.1672945320!/fileImage/httpImage/image.jpg_gen/derivatives/16x9_780/sikh-helmets-tina-singh.jpg', './image.jpg')   \n",
    "    # read the image and get its width and height\n",
    "    img = cv2.imread('./image.jpg')   \n",
    "    h, w = img.shape[:2]   \n",
    "    # convert the normalized space to pixels   \n",
    "    x_min, y_min = int(x_min * w), int(y_min * h)    \n",
    "    x_max, y_max = int(x_max * w), int(y_max * h)    \n",
    "    # draw a mark around the object\\n   \n",
    "    cv2.rectangle(img, (x_min, y_min), (x_max, y_max), (0, 255, 0), 2)    \n",
    "    # write the new image  \n",
    "    cv2.imwrite('./new_image.jpg', img)"
   ]
  },
  {
   "cell_type": "code",
   "execution_count": 14,
   "metadata": {},
   "outputs": [],
   "source": [
    "check_img(0.25,0.23,0.55,0.88)"
   ]
  }
 ],
 "metadata": {
  "kernelspec": {
   "display_name": "pydev",
   "language": "python",
   "name": "python3"
  },
  "language_info": {
   "codemirror_mode": {
    "name": "ipython",
    "version": 3
   },
   "file_extension": ".py",
   "mimetype": "text/x-python",
   "name": "python",
   "nbconvert_exporter": "python",
   "pygments_lexer": "ipython3",
   "version": "3.10.12"
  }
 },
 "nbformat": 4,
 "nbformat_minor": 2
}
