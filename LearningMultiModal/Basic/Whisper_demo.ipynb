{
 "cells": [
  {
   "cell_type": "code",
   "execution_count": 1,
   "metadata": {},
   "outputs": [],
   "source": [
    "from openai import AzureOpenAI\n",
    "import os\n",
    "\n"
   ]
  },
  {
   "cell_type": "code",
   "execution_count": 2,
   "metadata": {},
   "outputs": [],
   "source": [
    "api_base = \"https://kinfeyaoai.openai.azure.com/\"\n",
    "api_key= \"a8daf4f0b4bb4120816389e90155278e\"\n",
    "deployment_name = 'WhisperModel'\n",
    "api_version = '2023-12-01-preview' "
   ]
  },
  {
   "cell_type": "code",
   "execution_count": 3,
   "metadata": {},
   "outputs": [],
   "source": [
    "client = AzureOpenAI(\n",
    "    api_key = api_key,  \n",
    "    api_version = api_version,\n",
    "    azure_endpoint = api_base,\n",
    "    azure_deployment = deployment_name\n",
    ")"
   ]
  },
  {
   "cell_type": "code",
   "execution_count": 4,
   "metadata": {},
   "outputs": [],
   "source": [
    "audio_test_file = './demo.wav'"
   ]
  },
  {
   "cell_type": "code",
   "execution_count": 5,
   "metadata": {},
   "outputs": [],
   "source": [
    "result = client.audio.transcriptions.create(\n",
    "            file=open(audio_test_file, \"rb\"),            \n",
    "            model='whisper'\n",
    "        )"
   ]
  },
  {
   "cell_type": "code",
   "execution_count": 6,
   "metadata": {},
   "outputs": [
    {
     "data": {
      "text/plain": [
       "Transcription(text=\"Little did we know when we scheduled Ignite, that we will schedule it on the same day that there is a World Cup semi-final going on in cricket. And I've been up all night, but it finished five minutes ago. So I'm glad it did. And this is the short version of the game, by the way.\")"
      ]
     },
     "execution_count": 6,
     "metadata": {},
     "output_type": "execute_result"
    }
   ],
   "source": [
    "result"
   ]
  }
 ],
 "metadata": {
  "kernelspec": {
   "display_name": "pydev",
   "language": "python",
   "name": "python3"
  },
  "language_info": {
   "codemirror_mode": {
    "name": "ipython",
    "version": 3
   },
   "file_extension": ".py",
   "mimetype": "text/x-python",
   "name": "python",
   "nbconvert_exporter": "python",
   "pygments_lexer": "ipython3",
   "version": "3.10.13"
  }
 },
 "nbformat": 4,
 "nbformat_minor": 2
}
